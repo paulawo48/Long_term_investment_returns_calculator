{
 "metadata": {
  "language_info": {
   "codemirror_mode": {
    "name": "ipython",
    "version": 3
   },
   "file_extension": ".py",
   "mimetype": "text/x-python",
   "name": "python",
   "nbconvert_exporter": "python",
   "pygments_lexer": "ipython3",
   "version": "3.8.3-final"
  },
  "orig_nbformat": 2,
  "kernelspec": {
   "name": "python3",
   "display_name": "Python 3.8.3 64-bit (conda)",
   "metadata": {
    "interpreter": {
     "hash": "602285bf5dd4be7056473e35e83252ea60e2232c2e12704585f1c4d3846efcb5"
    }
   }
  }
 },
 "nbformat": 4,
 "nbformat_minor": 2,
 "cells": [
  {
   "source": [
    "# Equity data collection\n",
    "To build the ML prediction model, we need to collect data that represents each company. Based on research by Nikola Milosevic, the best choice of indicators are: \n",
    "-book value \n",
    "-market capitalisation \n",
    "-dividend yield \n",
    "-earnings per share \n",
    "-price to equity ratio \n",
    "-price to book ratio -debt to price ratio \n",
    "-current ratio \n",
    "-quick ratio \n",
    "-total debt to total equity ratio \n",
    "-current price \n",
    "-share price growth over the last year\n",
    "\n",
    "Using these indicators, companies are seperating into two groups. These groups are companies that have share price growth of atleast 10%, and companies that don't."
   ],
   "cell_type": "markdown",
   "metadata": {}
  },
  {
   "cell_type": "code",
   "execution_count": 1,
   "metadata": {},
   "outputs": [],
   "source": [
    "# Import  all required library packages\n",
    "import matplotlib.pyplot as plt, pandas as pd\n",
    "import simfin as sf, numpy as np, datetime, math\n",
    "from simfin.names import *\n",
    "from datetime import date"
   ]
  },
  {
   "source": [
    "# Set a data directory to download and store data\n",
    "sf.set_data_dir('~/simfin_data_all/')\n",
    "# Use the free api key\n",
    "sf.set_api_key(api_key='free')"
   ],
   "cell_type": "code",
   "metadata": {},
   "execution_count": 2,
   "outputs": []
  },
  {
   "source": [
    "#Load the income statement\n",
    "income_statement = sf.load(dataset='income',variant='annual', market='us',index=[TICKER], parse_dates=[REPORT_DATE, PUBLISH_DATE, RESTATED_DATE])\n",
    "#Load the balance sheet\n",
    "balance_sheet = sf.load(dataset='balance',variant='annual', market='us',index=[TICKER], parse_dates=[REPORT_DATE, PUBLISH_DATE, RESTATED_DATE])\n",
    "#Load the cashflow statement\n",
    "cashflow_Statement = sf.load(dataset='cashflow',variant='annual', market='us',index=[TICKER], parse_dates=[ PUBLISH_DATE, RESTATED_DATE])\n",
    "#Load share prices\n",
    "share_price = sf.load(dataset='shareprices',variant='daily', market='us',index=[TICKER], parse_dates=[DATE])\n",
    "#Load company details\n",
    "company_details = sf.load(dataset='companies',variant='annual', market='us', index=[TICKER])"
   ],
   "cell_type": "code",
   "metadata": {},
   "execution_count": 3,
   "outputs": [
    {
     "output_type": "stream",
     "name": "stdout",
     "text": [
      "Dataset \"us-income-annual\" on disk (2 days old).\n",
      "- Loading from disk ... Done!\n",
      "Dataset \"us-balance-annual\" on disk (2 days old).\n",
      "- Loading from disk ... Done!\n",
      "Dataset \"us-cashflow-annual\" on disk (2 days old).\n",
      "- Loading from disk ... Done!\n",
      "Dataset \"us-shareprices-daily\" on disk (2 days old).\n",
      "- Loading from disk ... Done!\n",
      "Dataset \"us-companies-annual\" on disk (2 days old).\n",
      "- Loading from disk ... Done!\n"
     ]
    }
   ]
  },
  {
   "cell_type": "code",
   "execution_count": 4,
   "metadata": {},
   "outputs": [
    {
     "output_type": "stream",
     "name": "stdout",
     "text": [
      "Dataset \"us-income-annual\" on disk (2 days old).\n",
      "- Loading from disk ... Done!\n",
      "\n",
      " There are 2108 companies within the database\n"
     ]
    }
   ],
   "source": [
    "#Get the list from an un-indexed copy of the income statement\n",
    "ticker_list = list(sf.load(dataset='income',variant='annual', market='us').iloc[:,0])\n",
    "dis_tckr_list = sorted(list(set(ticker_list))) #List of stocks without repition\n",
    "print('\\n There are', len(dis_tckr_list), 'companies within the database')"
   ]
  },
  {
   "cell_type": "code",
   "execution_count": 5,
   "metadata": {},
   "outputs": [],
   "source": [
    "# Collect indicators for each stock\n",
    "def coll_indicators(tckr3):\n",
    "    year_only = str((date.today() - datetime.timedelta(days=2*365.25)).year -2)\n",
    "\n",
    "    bal_arr = balance_sheet.loc[tckr3]['Report Date']\n",
    "    cf_arr = cashflow_Statement.loc[tckr3]['Report Date']\n",
    "    inc_arr = income_statement.loc[tckr3]['Report Date']\n",
    "\n",
    "    bal_year, cf_year,inc_year  = [],[],[]\n",
    "\n",
    "    for i in bal_arr: bal_year.append(str(i).split('-')[0])\n",
    "    for i in cf_arr: cf_year.append(str(i).split('-')[0])\n",
    "    for i in inc_arr: inc_year.append(str(i).split('-')[0])\n",
    "\n",
    "    bal_year = bal_year.index(year_only)\n",
    "    cf_year = cf_year.index(year_only)\n",
    "    inc_year = inc_year.index(year_only)\n",
    "\n",
    "    year1 = str(date.today() - datetime.timedelta(days=2*365.25)) #Data from 2 years ago as last year growth has been impacted by corona virus\n",
    "    year2 = str(date.today() - datetime.timedelta(days=3*365.25)) #Data from 3 years ago required\n",
    "\n",
    "    date_arr = share_price.loc[tckr3]['Date']\n",
    "\n",
    "    y2_index = int(np.where(date_arr == year2)[0])\n",
    "    y1_index = -1#int(np.where(date_arr == year1)[0])\n",
    "\n",
    "    #All data collected is from 2018, to predict the 2019 price values\n",
    "    price = share_price.loc[tckr3]['Close'][y1_index]   #History price\n",
    "    book_value = balance_sheet.loc[tckr3]['Total Equity'][bal_year]/share_price.loc[tckr3]['Shares Outstanding'][y2_index]  #Book value\n",
    "    market_cap = share_price.loc[tckr3]['Shares Outstanding'][y1_index]*price   #Market capitalisation\n",
    "    div_per_share = -cashflow_Statement.loc[tckr3]['Dividends Paid'][cf_year]/share_price.loc[tckr3]['Shares Outstanding'][y1_index]   #Dividend per share\n",
    "    div_yield = div_per_share/price   #Dividend yield\n",
    "    eps = income_statement.loc[tckr3][NET_INCOME_COMMON][inc_year]/balance_sheet.loc[tckr3]['Shares (Diluted)'][bal_year] #EPS\n",
    "    pe_ratio =  price/eps    #P/E ratio\n",
    "    price_to_book = price/book_value   #Price to book ratio\n",
    "    curr_ratio = balance_sheet.loc[tckr3]['Total Current Assets'][bal_year]/balance_sheet.loc[tckr3]['Total Current Liabilities'][bal_year] #Current ratio\n",
    "    quick_ratio = (balance_sheet.loc[tckr3]['Total Current Assets'][bal_year] - balance_sheet.loc[tckr3]['Inventories'][bal_year])/balance_sheet.loc[tckr3]['Total Current Liabilities'][bal_year]          #quick ratio \n",
    "    debt_equity = (balance_sheet.loc[tckr3]['Long Term Debt'][bal_year] + balance_sheet.loc[tckr3]['Total Current Assets'][bal_year])/balance_sheet.loc[tckr3]['Total Equity'][bal_year]    #Total debt to equity\n",
    "\n",
    "    indicators = [tckr3, float(book_value), float(market_cap) , float(div_yield), float(eps), float(pe_ratio), float(price_to_book), float(div_per_share), float(curr_ratio), float(quick_ratio), float(debt_equity), float(price)]\n",
    "\n",
    "    #Clean data \n",
    "    indicators[1:] = [9999 if math.isnan(x) or x == -0.0 or math.isinf(-x) or math.isinf(x) else x for x in indicators[1:]]\n",
    "\n",
    "    # Comparison of last share price to current, set good and bad (1 and 0) to create target column\n",
    "    lstyear_price = share_price.loc[tckr3]['Close'][y2_index]\n",
    "    current_price = share_price.loc[tckr3]['Close'][y1_index]\n",
    "    price_growth = 100*(float(current_price) - float(lstyear_price))/float(lstyear_price)\n",
    "    if price_growth > 10:\n",
    "        rating = 1\n",
    "    else:\n",
    "        rating = 0\n",
    "    indicators.append(rating)\n",
    "\n",
    "    indicators = np.array(indicators)\n",
    "    return indicators"
   ]
  },
  {
   "cell_type": "code",
   "execution_count": 6,
   "metadata": {},
   "outputs": [],
   "source": [
    "# Loop through all companies and create an array of indicators\n",
    "data = []\n",
    "counter = 0\n",
    "for i in dis_tckr_list:\n",
    "    counter += 1\n",
    "    try:\n",
    "        tckr3 = i\n",
    "        column = coll_indicators(tckr3)\n",
    "        data.append(column)\n",
    "    except: pass\n",
    "    # print(counter,\"/\", len(dis_tckr_list))\n",
    "data_clean = pd.DataFrame(data)"
   ]
  },
  {
   "cell_type": "code",
   "execution_count": 8,
   "metadata": {},
   "outputs": [
    {
     "output_type": "stream",
     "name": "stdout",
     "text": [
      "1755\n"
     ]
    }
   ],
   "source": [
    "print(len(data_clean))"
   ]
  },
  {
   "cell_type": "code",
   "execution_count": null,
   "metadata": {},
   "outputs": [],
   "source": [
    "# Export processed data as csv\n",
    "compression_opts = dict(method='zip',\n",
    "                        archive_name='out2.csv')\n",
    "data_clean.to_csv('out2.zip', index=False,\n",
    "          compression=compression_opts)"
   ]
  }
 ]
}